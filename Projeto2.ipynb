{
 "cells": [
  {
   "cell_type": "markdown",
   "metadata": {},
   "source": [
    "## Baixar bibliotecas\n",
    "\n"
   ]
  },
  {
   "cell_type": "code",
   "execution_count": 1,
   "metadata": {},
   "outputs": [
    {
     "data": {
      "text/plain": [
       "['Requirement already satisfied: pillow in c:\\\\users\\\\lucas\\\\appdata\\\\local\\\\programs\\\\python\\\\python310\\\\lib\\\\site-packages (9.2.0)']"
      ]
     },
     "execution_count": 1,
     "metadata": {},
     "output_type": "execute_result"
    }
   ],
   "source": [
    "!!pip install pillow"
   ]
  },
  {
   "cell_type": "markdown",
   "metadata": {},
   "source": [
    "## Importando as bibliotecas"
   ]
  },
  {
   "cell_type": "code",
   "execution_count": 8,
   "metadata": {},
   "outputs": [],
   "source": [
    "from PIL import Image\n"
   ]
  },
  {
   "cell_type": "markdown",
   "metadata": {},
   "source": [
    "## Abrindo a imagem e a convertendo para escala de cinza"
   ]
  },
  {
   "cell_type": "code",
   "execution_count": 34,
   "metadata": {},
   "outputs": [],
   "source": [
    "im = Image.open('img.jpg').convert('L')\n",
    "im2 = Image.open('img2.jpg').convert('L')\n",
    "im.show()\n",
    "im2.show()"
   ]
  },
  {
   "cell_type": "markdown",
   "metadata": {},
   "source": [
    "## Usando o algoritimo de treshold"
   ]
  },
  {
   "cell_type": "code",
   "execution_count": 35,
   "metadata": {},
   "outputs": [],
   "source": [
    "threshold = 190\n",
    "im = im.point(lambda p: p > threshold and 255) #Mapear a imagem no metodo threshold\n",
    "im2 = im2.point(lambda p: p > threshold and 255) #Mapear a imagem no metodo threshold"
   ]
  },
  {
   "cell_type": "markdown",
   "metadata": {},
   "source": [
    "## Criando a nova imagem que só contem os pixel da frente "
   ]
  },
  {
   "cell_type": "code",
   "execution_count": 36,
   "metadata": {},
   "outputs": [],
   "source": [
    "im = im.convert('RGBA')\n",
    "new_im = Image.new('RGBA', im.size, (255, 255, 255))\n",
    "new_im.paste(im, mask=im)\n",
    "\n",
    "im2 = im2.convert('RGBA')\n",
    "new_im2 = Image.new('RGBA', im2.size, (255, 255, 255))\n",
    "new_im2.paste(im2, mask=im2)"
   ]
  },
  {
   "cell_type": "markdown",
   "metadata": {},
   "source": [
    "\n",
    "\n",
    "## Salvando a imagem"
   ]
  },
  {
   "cell_type": "code",
   "execution_count": 39,
   "metadata": {},
   "outputs": [],
   "source": [
    "new_im.save('image_bg_removed.png')\n",
    "nova = Image.open(\"image_bg_removed.png\")\n",
    "nova.show()"
   ]
  },
  {
   "cell_type": "code",
   "execution_count": 40,
   "metadata": {},
   "outputs": [],
   "source": [
    "new_im2.save('image_bg_removed2.png')\n",
    "nova2 = Image.open(\"image_bg_removed2.png\")\n",
    "nova2.show()"
   ]
  },
  {
   "cell_type": "code",
   "execution_count": 41,
   "metadata": {},
   "outputs": [],
   "source": [
    "\n",
    "\n",
    "import numpy as np\n",
    "import matplotlib.pyplot as plt\n",
    "import cv2\n",
    "from numpy.lib.type_check import imag\n",
    "\n",
    "minimum = 4000                  #Define a área de contorno mínimo\n",
    "frame1 = None\n",
    "cap = cv2.VideoCapture(0)   # Ativa a camera como captura\n",
    "method = 'ABS'\n",
    "\n",
    "# meetodo de subtracao de fundo\n",
    "mog = cv2.createBackgroundSubtractorMOG2()  \n",
    "knn = cv2.createBackgroundSubtractorKNN()   \n",
    "\n",
    "while True:\n",
    "    ret, frame = cap.read()\n",
    "    vid = cv2.flip(frame,1)\n",
    "    \n",
    "    if method == 'MOG2':\n",
    "        bgs = mog.apply(vid)\n",
    "        \n",
    "    \n",
    "    elif method == 'KNN':\n",
    "        bgs = knn.apply(vid)\n",
    "\n",
    "    \n",
    "    elif method == 'ABS':\n",
    "        frame = cv2.GaussianBlur(vid,(7,7),0)\n",
    "        frame = cv2.cvtColor(frame,cv2.COLOR_BGR2GRAY)\n",
    "        \n",
    "        if frame1 is None:\n",
    "            frame1 = frame\n",
    "            continue \n",
    "        \n",
    "        framedelta = cv2.absdiff(frame1,frame)\n",
    "        retval, bgs = cv2.threshold(framedelta.copy(), 50, 255, cv2.THRESH_BINARY)\n",
    "    \n",
    "    mask = np.zeros_like(frame)\n",
    "\n",
    "# Encontrando contornos e os imprimindo na tela\n",
    "    \n",
    "    contours,_ = cv2.findContours(bgs, mode= cv2.RETR_TREE, method= cv2.CHAIN_APPROX_SIMPLE)\n",
    "    contours = sorted(contours,key=cv2.contourArea,reverse= True)\n",
    "    \n",
    "    for cnt in contours:\n",
    "        if cv2.contourArea(cnt) < minimum:\n",
    "                continue\n",
    "        \n",
    "        (x,y,w,h) = cv2.boundingRect(cnt)\n",
    "        cv2.rectangle(vid,(x,y),(x+w,y+h),(0,255,10),1)\n",
    "        cv2.putText(vid,f'{method}',(20,20),cv2.FONT_HERSHEY_COMPLEX_SMALL,1,(0,255,0,2))\n",
    "        cv2.putText(vid,'Motion Detected',(20,40),cv2.FONT_HERSHEY_COMPLEX_SMALL,1,(0,255,0,2))\n",
    "        cv2.drawContours(mask,cnt,-1,255,3)\n",
    "        break\n",
    "\n",
    "    cv2.imshow('frame',vid)\n",
    "    cv2.imshow('BGS',bgs)\n",
    "\n",
    "\n",
    "    key = cv2.waitKey(1)\n",
    "    if key == ord('q') or key == ord('Q'):\n",
    "        break\n",
    "    elif key == ord('M') or key == ord('m'):\n",
    "        method = 'MOG2'\n",
    "    elif key == ord('K') or key == ord('k'):\n",
    "        method = 'KNN'\n",
    "    elif key == ord('A') or key == ord('a'):\n",
    "        method = 'ABS'\n",
    "            \n",
    "cap.release()\n",
    "cv2.destroyAllWindows()"
   ]
  },
  {
   "cell_type": "code",
   "execution_count": null,
   "metadata": {},
   "outputs": [],
   "source": []
  }
 ],
 "metadata": {
  "kernelspec": {
   "display_name": "Python 3 (ipykernel)",
   "language": "python",
   "name": "python3"
  },
  "language_info": {
   "codemirror_mode": {
    "name": "ipython",
    "version": 3
   },
   "file_extension": ".py",
   "mimetype": "text/x-python",
   "name": "python",
   "nbconvert_exporter": "python",
   "pygments_lexer": "ipython3",
   "version": "3.10.6"
  }
 },
 "nbformat": 4,
 "nbformat_minor": 4
}
